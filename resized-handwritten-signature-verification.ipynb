{
 "cells": [
  {
   "cell_type": "code",
   "execution_count": 1,
   "id": "41b86c91",
   "metadata": {
    "execution": {
     "iopub.execute_input": "2023-11-13T01:44:15.626102Z",
     "iopub.status.busy": "2023-11-13T01:44:15.625749Z",
     "iopub.status.idle": "2023-11-13T01:46:31.993329Z",
     "shell.execute_reply": "2023-11-13T01:46:31.992117Z"
    },
    "papermill": {
     "duration": 136.373825,
     "end_time": "2023-11-13T01:46:31.995682",
     "exception": false,
     "start_time": "2023-11-13T01:44:15.621857",
     "status": "completed"
    },
    "tags": []
   },
   "outputs": [
    {
     "name": "stdout",
     "output_type": "stream",
     "text": [
      "Error processing /kaggle/input/handwritten-signature-verification/data/data/forged/ru.d1c664d6-431d-4985-9e21-5989b1b7df4b__0001e12109--61ff34f8f73c4b173c32986d__JP A.jpg: cannot identify image file '/kaggle/input/handwritten-signature-verification/data/data/forged/ru.d1c664d6-431d-4985-9e21-5989b1b7df4b__0001e12109--61ff34f8f73c4b173c32986d__JP A.jpg'\n",
      "Resizing complete.\n"
     ]
    }
   ],
   "source": [
    "import os\n",
    "from PIL import Image\n",
    "\n",
    "# Define the input directory\n",
    "input_directory = \"/kaggle/input/handwritten-signature-verification/data/data\"\n",
    "\n",
    "# Create the output directory within the /kaggle/working/ directory\n",
    "output_directory = \"/kaggle/working/\"\n",
    "os.makedirs(output_directory, exist_ok=True)\n",
    "\n",
    "# Function to resize images in a directory\n",
    "def resize_images(directory, output_directory, target_size=(224, 224)):\n",
    "    for root, _, files in os.walk(directory):\n",
    "        for file in files:\n",
    "            # Check if the file is an image\n",
    "            if file.lower().endswith(('.png', '.jpg', '.jpeg')):\n",
    "                file_path = os.path.join(root, file)\n",
    "                # Load and resize the image\n",
    "                try:\n",
    "                    img = Image.open(file_path)\n",
    "                    resized_img = img.resize(target_size)\n",
    "                    # Save the resized image to the output directory\n",
    "                    relative_path = os.path.relpath(file_path, directory)\n",
    "                    output_path = os.path.join(output_directory, relative_path)\n",
    "                    os.makedirs(os.path.dirname(output_path), exist_ok=True)\n",
    "                    resized_img.save(output_path)\n",
    "                except Exception as e:\n",
    "                    print(f\"Error processing {file_path}: {e}\")\n",
    "\n",
    "# Resize images in the input directory and its subdirectories\n",
    "resize_images(input_directory, output_directory)\n",
    "\n",
    "print(\"Resizing complete.\")"
   ]
  },
  {
   "cell_type": "code",
   "execution_count": 2,
   "id": "c4b947b0",
   "metadata": {
    "execution": {
     "iopub.execute_input": "2023-11-13T01:46:32.001288Z",
     "iopub.status.busy": "2023-11-13T01:46:31.999983Z",
     "iopub.status.idle": "2023-11-13T01:46:32.735131Z",
     "shell.execute_reply": "2023-11-13T01:46:32.733120Z"
    },
    "papermill": {
     "duration": 0.740251,
     "end_time": "2023-11-13T01:46:32.737575",
     "exception": false,
     "start_time": "2023-11-13T01:46:31.997324",
     "status": "completed"
    },
    "tags": []
   },
   "outputs": [],
   "source": [
    "import zipfile\n",
    "import os\n",
    "\n",
    "def zip_folders(folder_paths, zip_filename):\n",
    "    with zipfile.ZipFile(zip_filename, 'w') as zipf:\n",
    "        for folder_path in folder_paths:\n",
    "            for root, dirs, files in os.walk(folder_path):\n",
    "                for file in files:\n",
    "                    file_path = os.path.join(root, file)\n",
    "                    arcname = os.path.relpath(file_path, folder_path)\n",
    "                    zipf.write(file_path, arcname)\n",
    "\n",
    "folder_paths = ['/kaggle/working/forged', '/kaggle/working/real']\n",
    "zip_filename = '/kaggle/working/Resized-handwritten-signature-verification.zip'\n",
    "\n",
    "zip_folders(folder_paths, zip_filename)\n"
   ]
  }
 ],
 "metadata": {
  "kernelspec": {
   "display_name": "Python 3 (ipykernel)",
   "language": "python",
   "name": "python3"
  },
  "language_info": {
   "codemirror_mode": {
    "name": "ipython",
    "version": 3
   },
   "file_extension": ".py",
   "mimetype": "text/x-python",
   "name": "python",
   "nbconvert_exporter": "python",
   "pygments_lexer": "ipython3",
   "version": "3.11.3"
  },
  "papermill": {
   "default_parameters": {},
   "duration": 140.573319,
   "end_time": "2023-11-13T01:46:33.161437",
   "environment_variables": {},
   "exception": null,
   "input_path": "__notebook__.ipynb",
   "output_path": "__notebook__.ipynb",
   "parameters": {},
   "start_time": "2023-11-13T01:44:12.588118",
   "version": "2.4.0"
  }
 },
 "nbformat": 4,
 "nbformat_minor": 5
}
